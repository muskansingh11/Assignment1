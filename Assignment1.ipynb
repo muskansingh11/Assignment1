{
 "cells": [
  {
   "cell_type": "markdown",
   "metadata": {},
   "source": [
    "## Ques:1 To create a program that asks the user to enter their name and their age and prints out a message addressed to them that tells them the year that they will turn 100 years old. Additionally, the program asks the user for another number and prints out that many copies of the previous message on separate lines."
   ]
  },
  {
   "cell_type": "code",
   "execution_count": 17,
   "metadata": {},
   "outputs": [
    {
     "name": "stdout",
     "output_type": "stream",
     "text": [
      "Enter your name \n",
      "Muskan Singh\n",
      "Enter your age \n",
      "21\n",
      "Enter the number of copies : 5\n",
      "Welcome Muskan Singh , you are 21 year old . You will turn 100 year old in  2100 .\n",
      "Welcome Muskan Singh , you are 21 year old . You will turn 100 year old in  2100 .\n",
      "Welcome Muskan Singh , you are 21 year old . You will turn 100 year old in  2100 .\n",
      "Welcome Muskan Singh , you are 21 year old . You will turn 100 year old in  2100 .\n",
      "Welcome Muskan Singh , you are 21 year old . You will turn 100 year old in  2100 .\n",
      "\n"
     ]
    }
   ],
   "source": [
    "name = input('Enter your name \\n')\n",
    "age = int(input('Enter your age \\n'))\n",
    "year = int(2021 - age + 100)\n",
    "ans = \"Welcome \" + name + \" , you are \" + str(age) + \" year old . You will turn 100 year old in  \" + str(year) + \" .\" + \"\\n\"\n",
    "number = int(input(\"Enter the number of copies : \"))\n",
    "print(number*ans)\n"
   ]
  },
  {
   "cell_type": "markdown",
   "metadata": {},
   "source": [
    "## Ques:2 To create a program that prints out all the elements of the given list a = [1, 1, 2, 3, 5, 8, 13, 21, 34, 55, 89] that are less than a number given by the user in a single line of code."
   ]
  },
  {
   "cell_type": "code",
   "execution_count": 10,
   "metadata": {},
   "outputs": [
    {
     "name": "stdout",
     "output_type": "stream",
     "text": [
      "Enter upper limit for list:7\n",
      "[1, 1, 2, 3, 5]\n"
     ]
    }
   ],
   "source": [
    "a = [1,1,2,3,5,8,13,21,34,55,89]\n",
    "n = int(input('Enter upper limit for list:'))\n",
    "res = [x for x in a if x<n]\n",
    "print(res)"
   ]
  },
  {
   "cell_type": "markdown",
   "metadata": {},
   "source": [
    "##  Ques:3 To create a program that asks the user how many Fibonacci numbers to generate and then generates them."
   ]
  },
  {
   "cell_type": "code",
   "execution_count": 16,
   "metadata": {},
   "outputs": [
    {
     "name": "stdout",
     "output_type": "stream",
     "text": [
      "Enter no. of terms for fibonacci sequence:6\n",
      "1 1 2 3 5 8 "
     ]
    }
   ],
   "source": [
    "def fibonacci(n):\n",
    "    a = 1\n",
    "    b = 1\n",
    "    if(n<1):\n",
    "        return\n",
    "    print(a,end = \" \")\n",
    "    for i in range(1,n):\n",
    "        print(b, end=\" \")\n",
    "        c = a+b\n",
    "        a = b\n",
    "        b = c\n",
    "\n",
    "n = int(input(\"Enter no. of terms for fibonacci sequence:\"))\n",
    "fibonacci(n)"
   ]
  },
  {
   "cell_type": "markdown",
   "metadata": {},
   "source": [
    "## Ques:4 To create a program that takes a list and returns a new list that contains all the elements of the first list minus all the duplicates. Write two different functions to do this - one using a loop and constructing a list, and another using sets."
   ]
  },
  {
   "cell_type": "code",
   "execution_count": 15,
   "metadata": {},
   "outputs": [
    {
     "name": "stdout",
     "output_type": "stream",
     "text": [
      "[1, 2, 3, 5, 8, 13, 21, 34, 55, 89]\n",
      "[1, 2, 3, 34, 5, 8, 13, 21, 55, 89]\n"
     ]
    }
   ],
   "source": [
    "def removeduplicates(l):\n",
    "    res = []\n",
    "    for ele in l:\n",
    "        if not ele in res:\n",
    "            res.append(ele)\n",
    "    return res\n",
    "\n",
    "def removeduplicatestwo(l):\n",
    "    resSet = set(l)\n",
    "    return list(resSet)\n",
    "\n",
    "print(removeduplicates([1,1,2,3,5,8,13,21,34,55,8,89,2,3]))\n",
    "print(removeduplicatestwo([1,1,2,3,5,8,13,21,34,55,8,89,2,3]))\n"
   ]
  },
  {
   "cell_type": "markdown",
   "metadata": {},
   "source": [
    "## Ques :5 To create a program that ask the user for a number and determine whether the number is prime or not.\n"
   ]
  },
  {
   "cell_type": "code",
   "execution_count": 18,
   "metadata": {},
   "outputs": [
    {
     "name": "stdout",
     "output_type": "stream",
     "text": [
      "Enter the number:6\n",
      "6 is not prime.\n"
     ]
    }
   ],
   "source": [
    "def isPrime(num):\n",
    "    if num>1:\n",
    "        for i in range(2,(num//2) + 1):\n",
    "            if(num%i) == 0:\n",
    "                return False\n",
    "            \n",
    "        return True\n",
    "    return False\n",
    "num = int(input(\"Enter the number:\"))\n",
    "if isPrime(num):\n",
    "    print(num, \" is prime.\")\n",
    "else:\n",
    "    print(num,\"is not prime.\")"
   ]
  }
 ],
 "metadata": {
  "kernelspec": {
   "display_name": "Python 3",
   "language": "python",
   "name": "python3"
  },
  "language_info": {
   "codemirror_mode": {
    "name": "ipython",
    "version": 3
   },
   "file_extension": ".py",
   "mimetype": "text/x-python",
   "name": "python",
   "nbconvert_exporter": "python",
   "pygments_lexer": "ipython3",
   "version": "3.8.5"
  }
 },
 "nbformat": 4,
 "nbformat_minor": 4
}
